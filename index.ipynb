{
 "cells": [
  {
   "cell_type": "markdown",
   "metadata": {},
   "source": [
    "# Complete Regression - Lab\n",
    "\n",
    "## Introduction\n",
    "By now, you have created all the necessary functions to calculate the slope, intercept, best-fit line, prediction, and visualizations. In this lab you will put them all together to run a regression experiment and calculate the model loss. \n",
    "\n",
    "## Objectives\n",
    "\n",
    "You will be able to:\n",
    "\n",
    "* Perform a linear regression using self-constructed functions\n",
    "* Calculate the coefficient of determination using self-constructed functions\n",
    "* Use the coefficient of determination to determine model performance\n",
    "\n",
    "## The formulas\n",
    "\n",
    "**Slope**: \n",
    "$\\hat m = \\dfrac{\\overline{x}*\\overline{y}-\\overline{xy}}{(\\overline{x})^2-\\overline{x^2}}$\n",
    "\n",
    "\n",
    "**Intercept**: $ \\hat c = \\bar{y} - \\hat m\\bar{x}$\n",
    "\n",
    "**Prediction**: $\\hat{y} = \\hat mx + \\hat c$\n",
    "\n",
    "**R-Squared**: \n",
    "$ R^2 = 1- \\dfrac{SS_{RES}}{SS_{TOT}} = 1 - \\dfrac{\\sum_i(y_i - \\hat y_i)^2}{\\sum_i(y_i - \\overline y_i)^2} $\n",
    "\n",
    "\n",
    "Use the Python functions created earlier to implement these formulas to run a regression analysis using x and y as input variables. "
   ]
  },
  {
   "cell_type": "code",
   "execution_count": 34,
   "metadata": {},
   "outputs": [],
   "source": [
    "import numpy as np\n",
    "import matplotlib.pyplot as plt\n",
    "plt.style.use('seaborn-darkgrid') "
   ]
  },
  {
   "cell_type": "code",
   "execution_count": 3,
   "metadata": {},
   "outputs": [],
   "source": [
    "# Combine all the functions created so far to run a complete regression experiment. \n",
    "# Produce an output similar to the one shown below. \n",
    "\n",
    "X = np.array([1, 2, 3, 4, 5, 6, 7, 8, 9, 10], dtype=np.float64)\n",
    "Y = np.array([7, 7, 8, 9, 9, 10, 10, 11, 11, 12], dtype=np.float64)\n"
   ]
  },
  {
   "cell_type": "code",
   "execution_count": 8,
   "metadata": {},
   "outputs": [],
   "source": [
    "def get_slope(x, y):\n",
    "    num = x.mean() * y.mean() - (x*y).mean()\n",
    "    denom = x.mean()**2 - (x**2).mean()\n",
    "    return num/denom"
   ]
  },
  {
   "cell_type": "code",
   "execution_count": 9,
   "metadata": {},
   "outputs": [],
   "source": [
    "def get_intercept(x, y, m):\n",
    "    return y.mean() - m*x.mean()"
   ]
  },
  {
   "cell_type": "code",
   "execution_count": 12,
   "metadata": {},
   "outputs": [],
   "source": [
    "def get_y_predicted(m, x, c):\n",
    "    return m*x + c"
   ]
  },
  {
   "cell_type": "code",
   "execution_count": 10,
   "metadata": {},
   "outputs": [],
   "source": [
    "def get_r_squared(y, y_predicted):\n",
    "    y_bar = np.mean(y)\n",
    "    num = sum([ (y - y_hat)**2 for y, y_hat in zip(y, y_predicted)])\n",
    "    denom = sum([ (y - y_bar)**2 for y in y])\n",
    "    return num/denom"
   ]
  },
  {
   "cell_type": "code",
   "execution_count": 50,
   "metadata": {},
   "outputs": [],
   "source": [
    "def diagnose(X, y_predicted, m, y_intercept, r_squared):\n",
    "    print(f'Basic Regression Diagnostics\\n----------------------------\\nSlope: {m}\\nY-Intercept: {y_intercept}\\nR-Squared: {r_squared}\\n----------------------------\\nModel: Y = {m} * X + {y_intercept}')\n",
    "    plt.scatter(X, Y, color='blue', label='data') \n",
    "    plt.plot(X, y_predicted, color='red', label='regression line')\n",
    "    plt.legend();"
   ]
  },
  {
   "cell_type": "code",
   "execution_count": null,
   "metadata": {},
   "outputs": [],
   "source": []
  },
  {
   "cell_type": "code",
   "execution_count": 51,
   "metadata": {},
   "outputs": [
    {
     "name": "stdout",
     "output_type": "stream",
     "text": [
      "Basic Regression Diagnostics\n",
      "----------------------------\n",
      "Slope: 0.5575757575757568\n",
      "Y-Intercept: 6.3333333333333375\n",
      "R-Squared: 0.028466483011937473\n",
      "----------------------------\n",
      "Model: Y = 0.5575757575757568 * X + 6.3333333333333375\n"
     ]
    },
    {
     "data": {
      "image/png": "[encoded data removed]",
      "text/plain": [
       "<Figure size 432x288 with 1 Axes>"
      ]
     },
     "metadata": {},
     "output_type": "display_data"
    }
   ],
   "source": [
    "slope = get_slope(X,Y)\n",
    "y_intercept = get_intercept(X, Y, slope)\n",
    "y_predicted = get_y_predicted(slope, X, y_intercept)\n",
    "r_squared = get_r_squared(Y, y_predicted)\n",
    "diagnose(X, y_predicted, slope, y_intercept, r_squared)"
   ]
  },
  {
   "cell_type": "code",
   "execution_count": 70,
   "metadata": {
    "scrolled": true
   },
   "outputs": [
    {
     "name": "stdout",
     "output_type": "stream",
     "text": [
      "Basic Regression Diagnostics\n",
      "----------------------------\n",
      "Slope: 0.56\n",
      "Y-Intercept: 6.33\n",
      "R-Squared: 0.97\n",
      "----------------------------\n",
      "Model: Y = 0.56 * X + 6.33\n"
     ]
    },
    {
     "data": {
      "image/png": "[encoded data removed]",
      "text/plain": [
       "<matplotlib.figure.Figure at 0x1a180b14a8>"
      ]
     },
     "metadata": {},
     "output_type": "display_data"
    }
   ],
   "source": [
    "# Basic Regression Diagnostics\n",
    "# ----------------------------\n",
    "# Slope: 0.56\n",
    "# Y-Intercept: 6.33\n",
    "# R-Squared: 0.97\n",
    "# ----------------------------\n",
    "# Model: Y = 0.56 * X + 6.33"
   ]
  },
  {
   "cell_type": "markdown",
   "metadata": {},
   "source": [
    "## Make Predictions\n",
    "\n",
    "Predict and plot the value of y using regression line above for a new value of $x = 4.5$."
   ]
  },
  {
   "cell_type": "code",
   "execution_count": 56,
   "metadata": {},
   "outputs": [],
   "source": [
    "y = slope*4.5 + y_intercept"
   ]
  },
  {
   "cell_type": "code",
   "execution_count": 62,
   "metadata": {},
   "outputs": [
    {
     "name": "stdout",
     "output_type": "stream",
     "text": [
      "Basic Regression Diagnostics\n",
      "----------------------------\n",
      "Slope: 0.5575757575757568\n",
      "Y-Intercept: 6.3333333333333375\n",
      "R-Squared: 0.028466483011937473\n",
      "----------------------------\n",
      "Model: Y = 0.5575757575757568 * X + 6.3333333333333375\n"
     ]
    },
    {
     "data": {
      "image/png": "[encoded data removed]",
      "text/plain": [
       "<Figure size 432x288 with 1 Axes>"
      ]
     },
     "metadata": {},
     "output_type": "display_data"
    }
   ],
   "source": [
    "plt.scatter(4.5, y, color='black', label='prediction')\n",
    "diagnose(X, y_predicted, slope, y_intercept, r_squared)\n"
   ]
  },
  {
   "cell_type": "code",
   "execution_count": 66,
   "metadata": {},
   "outputs": [
    {
     "data": {
      "image/png": "[encoded data removed]",
      "text/plain": [
       "<matplotlib.figure.Figure at 0x1a17f22b70>"
      ]
     },
     "metadata": {},
     "output_type": "display_data"
    }
   ],
   "source": [
    "# Make prediction for x = 4.5 and visualize on the scatter plot"
   ]
  },
  {
   "cell_type": "code",
   "execution_count": 63,
   "metadata": {},
   "outputs": [],
   "source": [
    "import pandas as pd\n",
    "df = pd.read_csv('heightweight.csv')"
   ]
  },
  {
   "cell_type": "code",
   "execution_count": 64,
   "metadata": {},
   "outputs": [
    {
     "data": {
      "text/html": [
       "<div>\n",
       "<style scoped>\n",
       "    .dataframe tbody tr th:only-of-type {\n",
       "        vertical-align: middle;\n",
       "    }\n",
       "\n",
       "    .dataframe tbody tr th {\n",
       "        vertical-align: top;\n",
       "    }\n",
       "\n",
       "    .dataframe thead th {\n",
       "        text-align: right;\n",
       "    }\n",
       "</style>\n",
       "<table border=\"1\" class=\"dataframe\">\n",
       "  <thead>\n",
       "    <tr style=\"text-align: right;\">\n",
       "      <th></th>\n",
       "      <th>height</th>\n",
       "      <th>weight</th>\n",
       "    </tr>\n",
       "  </thead>\n",
       "  <tbody>\n",
       "    <tr>\n",
       "      <td>0</td>\n",
       "      <td>68</td>\n",
       "      <td>165</td>\n",
       "    </tr>\n",
       "    <tr>\n",
       "      <td>1</td>\n",
       "      <td>71</td>\n",
       "      <td>201</td>\n",
       "    </tr>\n",
       "    <tr>\n",
       "      <td>2</td>\n",
       "      <td>61</td>\n",
       "      <td>140</td>\n",
       "    </tr>\n",
       "    <tr>\n",
       "      <td>3</td>\n",
       "      <td>69</td>\n",
       "      <td>170</td>\n",
       "    </tr>\n",
       "    <tr>\n",
       "      <td>4</td>\n",
       "      <td>71</td>\n",
       "      <td>192</td>\n",
       "    </tr>\n",
       "  </tbody>\n",
       "</table>\n",
       "</div>"
      ],
      "text/plain": [
       "   height  weight\n",
       "0      68     165\n",
       "1      71     201\n",
       "2      61     140\n",
       "3      69     170\n",
       "4      71     192"
      ]
     },
     "execution_count": 64,
     "metadata": {},
     "output_type": "execute_result"
    }
   ],
   "source": [
    "df.head()"
   ]
  },
  {
   "cell_type": "code",
   "execution_count": 65,
   "metadata": {},
   "outputs": [],
   "source": [
    "Y = df['weight'].values\n",
    "X = df['height'].values"
   ]
  },
  {
   "cell_type": "code",
   "execution_count": 70,
   "metadata": {},
   "outputs": [
    {
     "name": "stdout",
     "output_type": "stream",
     "text": [
      "Basic Regression Diagnostics\n",
      "----------------------------\n",
      "Slope: 5.539019232705614\n",
      "Y-Intercept: -204.48343570637024\n",
      "R-Squared: 0.044690071132633256\n",
      "----------------------------\n",
      "Model: Y = 5.539019232705614 * X + -204.48343570637024\n"
     ]
    },
    {
     "data": {
      "text/plain": [
       "<matplotlib.collections.PathCollection at 0x121750080>"
      ]
     },
     "execution_count": 70,
     "metadata": {},
     "output_type": "execute_result"
    },
    {
     "data": {
      "image/png": "[encoded data removed]",
      "text/plain": [
       "<Figure size 432x288 with 1 Axes>"
      ]
     },
     "metadata": {},
     "output_type": "display_data"
    }
   ],
   "source": [
    "slope = get_slope(X,Y)\n",
    "y_intercept = get_intercept(X, Y, slope)\n",
    "y_predicted = get_y_predicted(slope, X, y_intercept)\n",
    "r_squared = get_r_squared(Y, y_predicted)\n",
    "diagnose(X, y_predicted, slope, y_intercept, r_squared)\n",
    "plt.scatter(height, predicted_weight)"
   ]
  },
  {
   "cell_type": "code",
   "execution_count": 69,
   "metadata": {},
   "outputs": [],
   "source": [
    "height = 80\n",
    "predicted_weight = slope*height + y_intercept"
   ]
  },
  {
   "cell_type": "markdown",
   "metadata": {},
   "source": [
    "## Level up - Optional \n",
    "Load the \"`heightweight.csv`\" dataset. Use the height as an independent and weight as a dependent variable and draw a regression line to data using your code above. Calculate your R-Squared value for the model and try to predict new values of y. \n",
    "\n",
    "## Summary\n",
    "\n",
    "In this lab, we ran a complete simple regression analysis experiment using functions created so far. Next up, you'll learn how you can use Python's built-in modules to perform similar analyses with a much higher level of sophistication. "
   ]
  }
 ],
 "metadata": {
  "kernelspec": {
   "display_name": "Python 3",
   "language": "python",
   "name": "python3"
  },
  "language_info": {
   "codemirror_mode": {
    "name": "ipython",
    "version": 3
   },
   "file_extension": ".py",
   "mimetype": "text/x-python",
   "name": "python",
   "nbconvert_exporter": "python",
   "pygments_lexer": "ipython3",
   "version": "3.6.9"
  }
 },
 "nbformat": 4,
 "nbformat_minor": 2
}
